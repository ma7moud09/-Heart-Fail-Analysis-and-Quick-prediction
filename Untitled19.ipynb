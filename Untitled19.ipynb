{
  "nbformat": 4,
  "nbformat_minor": 0,
  "metadata": {
    "colab": {
      "name": "Untitled19.ipynb",
      "private_outputs": true,
      "provenance": [],
      "authorship_tag": "ABX9TyMt7cyWbScl+m/cmG2OpsZS",
      "include_colab_link": true
    },
    "kernelspec": {
      "name": "python3",
      "display_name": "Python 3"
    },
    "language_info": {
      "name": "python"
    }
  },
  "cells": [
    {
      "cell_type": "markdown",
      "metadata": {
        "id": "view-in-github",
        "colab_type": "text"
      },
      "source": [
        "<a href=\"https://colab.research.google.com/github/ma7moud09/-Heart-Fail-Analysis-and-Quick-prediction/blob/main/Untitled19.ipynb\" target=\"_parent\"><img src=\"https://colab.research.google.com/assets/colab-badge.svg\" alt=\"Open In Colab\"/></a>"
      ]
    },
    {
      "cell_type": "code",
      "metadata": {
        "id": "M0XZwwkK8usi"
      },
      "source": [
        "from google.colab import drive\n",
        "drive.mount('/content/drive')"
      ],
      "execution_count": null,
      "outputs": []
    },
    {
      "cell_type": "code",
      "metadata": {
        "id": "sc5v_SoG-yUZ"
      },
      "source": [
        "import pandas as pd\n",
        "import numpy as np\n",
        "import matplotlib\n",
        "import matplotlib.pyplot as plt\n",
        "import seaborn as sns\n",
        "from sklearn.model_selection import  train_test_split\n",
        "from sklearn.linear_model import LinearRegression\n",
        "from sklearn.preprocessing import  StandardScaler\n",
        "import missingno\n",
        "import plotly.express as px"
      ],
      "execution_count": null,
      "outputs": []
    },
    {
      "cell_type": "code",
      "metadata": {
        "id": "9zuinHMk_zNI"
      },
      "source": [
        "path = \"/content/drive/MyDrive/heart_failure_clinical_records_dataset.csv\"\n",
        "df = pd.read_csv(path, header = None)\n",
        "df.head()"
      ],
      "execution_count": null,
      "outputs": []
    },
    {
      "cell_type": "code",
      "metadata": {
        "id": "0SFOmA1QBAgO"
      },
      "source": [
        "df.drop(df.index[0],axis = 0, inplace = True)\n",
        "df.head()"
      ],
      "execution_count": null,
      "outputs": []
    },
    {
      "cell_type": "code",
      "metadata": {
        "id": "alGt_Ec7BeH4"
      },
      "source": [
        "headres = ['age', 'anaemia','creatinine_phosphokinase', 'diabetes',\n",
        "           'ejection_fraction', 'high_blood_pressure','platelets',\n",
        "           'serum_creatinine', 'serum_sodium', 'sex','smoking', \n",
        "           'time', 'DEATH_EVENT' ]\n",
        "df.columns = headres\n",
        "df.head()\n"
      ],
      "execution_count": null,
      "outputs": []
    },
    {
      "cell_type": "code",
      "metadata": {
        "id": "5_3Yl_mODDNc"
      },
      "source": [
        "df.describe(include = 'all')"
      ],
      "execution_count": null,
      "outputs": []
    },
    {
      "cell_type": "code",
      "metadata": {
        "id": "y1xD8KwVD-Vq"
      },
      "source": [
        "df.isnull().sum().to_frame()"
      ],
      "execution_count": null,
      "outputs": []
    },
    {
      "cell_type": "code",
      "metadata": {
        "id": "RYFGKNKZPeKt"
      },
      "source": [
        "missingno.matrix(df)"
      ],
      "execution_count": null,
      "outputs": []
    },
    {
      "cell_type": "code",
      "metadata": {
        "id": "pWK5ME-eEYOw"
      },
      "source": [
        "df.dtypes"
      ],
      "execution_count": null,
      "outputs": []
    },
    {
      "cell_type": "code",
      "metadata": {
        "id": "S6-G3-_GIPZv"
      },
      "source": [
        "df = df.astype(float)\n",
        "df.dtypes"
      ],
      "execution_count": null,
      "outputs": []
    },
    {
      "cell_type": "code",
      "metadata": {
        "id": "GeadKnagLUoh"
      },
      "source": [
        "df.shape"
      ],
      "execution_count": null,
      "outputs": []
    },
    {
      "cell_type": "code",
      "metadata": {
        "id": "5SaSJMpkIySD"
      },
      "source": [
        "plt.figure(figsize=(7,7))\n",
        "plt.hist(df['sex'])\n",
        "plt.title('How many mamle(1) Vs female(0)')\n",
        "plt.xlabel('amle(1) / female(0)')\n",
        "plt.ylabel('sum of mamle(1) / female(0)')"
      ],
      "execution_count": null,
      "outputs": []
    },
    {
      "cell_type": "code",
      "metadata": {
        "id": "dMQFpOACNcTJ"
      },
      "source": [
        "plt.figure(figsize=(7,7))\n",
        "sns.histplot(df['age'],)"
      ],
      "execution_count": null,
      "outputs": []
    },
    {
      "cell_type": "code",
      "metadata": {
        "id": "uI-w-F8ESqXq"
      },
      "source": [
        "fig = px.box(df, x='sex', y='age', points=\"all\")\n",
        "fig.update_layout(title_text=\"Gender wise Age Spread - Male = 1 Female =0\")\n",
        "fig.show()\n"
      ],
      "execution_count": null,
      "outputs": []
    },
    {
      "cell_type": "code",
      "metadata": {
        "id": "6XiF1TW_Wn_c"
      },
      "source": [
        "fig = px.violin(df, y=\"age\", x=\"smoking\", color=\"DEATH_EVENT\", box=True, points=\"all\", hover_data=df.columns)\n",
        "fig.update_layout(title_text=\"Analysis in Age and Smoking on Survival Status\")\n",
        "fig.show()"
      ],
      "execution_count": null,
      "outputs": []
    },
    {
      "cell_type": "code",
      "metadata": {
        "id": "91NZVIfOV7bU"
      },
      "source": [
        "male = df[df['sex'] ==1.0]\n",
        "female = df[df['sex']==0]\n",
        "\n",
        "male_smoking = male[male['smoking'] == 1]\n",
        "male_notsmoking = male[male['smoking'] == 0]\n",
        "\n",
        "femlae_smoking = female[female['smoking'] == 1]\n",
        "femlae_notsmoking = female[female['smoking'] == 0]\n",
        "\n",
        "male_survi = male[df[\"DEATH_EVENT\"]==0]\n",
        "male_not = male[df[\"DEATH_EVENT\"]==1]\n",
        "\n",
        "female_survi = female[df[\"DEATH_EVENT\"]==0]\n",
        "female_not = female[df[\"DEATH_EVENT\"]==1]\n",
        "\n",
        "labels_smoking  = ['male_smoking','male_notsmoking',\n",
        "          'femlae_smoking', 'femlae_notsmoking']\n",
        "values_smoking = [len(male_smoking), len(male_notsmoking ),\n",
        "          len(femlae_smoking), len(femlae_notsmoking)]\n",
        "\n",
        "\n",
        "\n",
        "explod = [0, 0.1, 0, 0.1]\n",
        "\n",
        "plt.figure(figsize=(7,7))\n",
        "\n",
        "\n",
        "plt.pie(labels= labels_smoking , x = values_smoking,\n",
        "        explode = explod, startangle = 90, shadow = True)\n",
        "plt.title(\"Analysis on smoking - Genden\")\n",
        "\n",
        "\n",
        "plt.legend()\n"
      ],
      "execution_count": null,
      "outputs": []
    },
    {
      "cell_type": "code",
      "metadata": {
        "id": "b1c7P30lQsRR"
      },
      "source": [
        "values_death = [len(male_survi),len(female_not),\n",
        "         len(female_survi),len(female_not)]\n",
        "\n",
        "labels_death = ['Male - Survived','Male - Not Survived', \n",
        "          \"Female -  Survived\", \"Female - Not Survived\"]\n",
        "\n",
        "plt.figure(figsize=(7,7))\n",
        "plt.pie(labels= labels_death , x = values_death,explode = explod,\n",
        "        startangle = 90, shadow = True)\n",
        "\n",
        "plt.title = (\"Analysis on Survival - Gender\")\n",
        "plt.legend()\n"
      ],
      "execution_count": null,
      "outputs": []
    },
    {
      "cell_type": "code",
      "metadata": {
        "id": "XhKizX6LT3k1"
      },
      "source": [
        "df.groupby(['anaemia'])['age'].value_counts()"
      ],
      "execution_count": null,
      "outputs": []
    },
    {
      "cell_type": "code",
      "metadata": {
        "id": "bfSGZtI8RtFs"
      },
      "source": [
        "plt.figure(figsize=(7,5))\n",
        "plt.hist(df.groupby(['anaemia'])['age'].value_counts())\n",
        "plt.title('anaemia due to age')\n"
      ],
      "execution_count": null,
      "outputs": []
    }
  ]
}